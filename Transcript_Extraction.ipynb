{
 "cells": [
  {
   "cell_type": "markdown",
   "metadata": {},
   "source": [
    "# Extracting Transcripts from YouTube videos"
   ]
  },
  {
   "cell_type": "code",
   "execution_count": 1,
   "metadata": {},
   "outputs": [],
   "source": [
    "import numpy"
   ]
  },
  {
   "cell_type": "code",
   "execution_count": 2,
   "metadata": {
    "scrolled": true
   },
   "outputs": [],
   "source": [
    "import urllib.request\n",
    "from bs4 import BeautifulSoup\n",
    "\n",
    "URL = []\n",
    "\n",
    "textToSearch = 'canon camera review'                 ## Entering the text to be searhed on the youtube\n",
    "query = urllib.parse.quote(textToSearch)             ## parsing it to urllib for url extraction\n",
    "\n",
    "url = \"https://www.youtube.com/results?search_query=\" + query\n",
    "response = urllib.request.urlopen(url)\n",
    "html = response.read()\n",
    "\n",
    "soup = BeautifulSoup(html, 'html.parser')\n",
    "for vid in soup.findAll(attrs={'class':'yt-uix-tile-link'}):\n",
    "    \n",
    "    #print('https://www.youtube.com' + vid['href'])\n",
    "    URL.append('https://www.youtube.com' + vid['href'])  ## appending all the urls on all the pages in a single list\n"
   ]
  },
  {
   "cell_type": "code",
   "execution_count": 3,
   "metadata": {},
   "outputs": [],
   "source": [
    "from urllib.parse import urlparse\n",
    "\n",
    "def video_id(url):      ## function to extract ids for each videop for its transcript exrtraction, if they have one\n",
    "    \n",
    "    o = urlparse(url)\n",
    "    if o.netloc == 'youtu.be':\n",
    "        return o.path[1:]\n",
    "    \n",
    "    elif o.netloc in ('www.youtube.com', 'youtube.com'):\n",
    "        if o.path == '/watch':\n",
    "            id_index = o.query.index('v=')\n",
    "            return o.query[id_index+2:id_index+13]\n",
    "        elif o.path[:7] == '/embed/':\n",
    "            return o.path.split('/')[2]\n",
    "        elif o.path[:3] == '/v/':\n",
    "            return o.path.split('/')[2]\n",
    "    \n",
    "    return None  # fail?"
   ]
  },
  {
   "cell_type": "code",
   "execution_count": 6,
   "metadata": {},
   "outputs": [],
   "source": [
    "video_ids = []\n",
    "\n",
    "for url in URL:\n",
    "    video_ids.append(video_id(url))      ## a list of extracted video ids on the urls"
   ]
  },
  {
   "cell_type": "code",
   "execution_count": 11,
   "metadata": {
    "scrolled": true
   },
   "outputs": [],
   "source": [
    "from youtube_transcript_api import YouTubeTranscriptApi\n",
    "\n",
    "Transcripts = []\n",
    "\n",
    "for ids in video_ids:\n",
    "    \n",
    "    try:\n",
    "        transcript = YouTubeTranscriptApi.get_transcript(ids)  ## extracting transcripts of each id if it has one on the youtube page\n",
    "    except:\n",
    "        continue\n",
    "    \n",
    "    Transcripts.append(transcript)"
   ]
  },
  {
   "cell_type": "code",
   "execution_count": 13,
   "metadata": {},
   "outputs": [
    {
     "name": "stdout",
     "output_type": "stream",
     "text": [
      "14\n"
     ]
    }
   ],
   "source": [
    "print(len(Transcripts))             ## out of the many videos only 14 had trascripts given by the youtube"
   ]
  },
  {
   "cell_type": "code",
   "execution_count": 26,
   "metadata": {
    "scrolled": true
   },
   "outputs": [],
   "source": [
    "import os\n",
    "\n",
    "os.makedirs(textToSearch)"
   ]
  },
  {
   "cell_type": "code",
   "execution_count": 49,
   "metadata": {},
   "outputs": [],
   "source": [
    "## all that is left is to extract the tyext from these transcript dictionaries\n",
    "\n",
    "for i in range(len(Transcripts)):                      ## for each video\n",
    "    \n",
    "    f = open(textToSearch + '/' + textToSearch + str(i), \"w\")\n",
    "    transcript_text = []\n",
    "    \n",
    "    for j in range(len(Transcripts[i])):               ## for each line in transcript\n",
    "        \n",
    "        text = Transcripts[i][j]['text'] + '\\n'        ## we only need text for review analysis\n",
    "        transcript_text.append(text)\n",
    "    \n",
    "    transcript_text = \"\".join(transcript_text)\n",
    "    f.write(transcript_text)\n",
    "    \n",
    "f.close()"
   ]
  },
  {
   "cell_type": "code",
   "execution_count": null,
   "metadata": {},
   "outputs": [],
   "source": []
  },
  {
   "cell_type": "code",
   "execution_count": null,
   "metadata": {},
   "outputs": [],
   "source": []
  },
  {
   "cell_type": "code",
   "execution_count": null,
   "metadata": {},
   "outputs": [],
   "source": []
  },
  {
   "cell_type": "code",
   "execution_count": null,
   "metadata": {},
   "outputs": [],
   "source": []
  },
  {
   "cell_type": "code",
   "execution_count": null,
   "metadata": {},
   "outputs": [],
   "source": [
    "\n"
   ]
  }
 ],
 "metadata": {
  "kernelspec": {
   "display_name": "Python 3",
   "language": "python",
   "name": "python3"
  },
  "language_info": {
   "codemirror_mode": {
    "name": "ipython",
    "version": 3
   },
   "file_extension": ".py",
   "mimetype": "text/x-python",
   "name": "python",
   "nbconvert_exporter": "python",
   "pygments_lexer": "ipython3",
   "version": "3.5.2"
  }
 },
 "nbformat": 4,
 "nbformat_minor": 2
}
