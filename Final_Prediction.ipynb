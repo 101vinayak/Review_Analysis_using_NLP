{
 "cells": [
  {
   "cell_type": "markdown",
   "metadata": {},
   "source": [
    "# Predicting the score for a Youtube Video generated text file for Reviews"
   ]
  },
  {
   "cell_type": "code",
   "execution_count": 2,
   "metadata": {},
   "outputs": [],
   "source": [
    "##Loading the required modules\n",
    "\n",
    "from keras.models import load_model\n",
    "from nltk.tokenize import sent_tokenize,word_tokenize,RegexpTokenizer\n",
    "from nltk.corpus import stopwords\n",
    "import emoji"
   ]
  },
  {
   "cell_type": "code",
   "execution_count": 3,
   "metadata": {},
   "outputs": [],
   "source": [
    "from keras.datasets import imdb\n",
    "import numpy as np\n",
    "import matplotlib.pyplot as plt"
   ]
  },
  {
   "cell_type": "code",
   "execution_count": 4,
   "metadata": {},
   "outputs": [],
   "source": [
    "## For representing the 0s or negetive reviews as sad face and 1s or positive reviews as happy face\n",
    "emoji_dict = {\"0\" : \":crying_face:\",\n",
    "              \"1\" : \":grinning_face_with_big_eyes:\"}\n",
    "\n",
    "def print_emoji(label):\n",
    "    \n",
    "    return emoji.emojize(emoji_dict[label], use_aliases=True)"
   ]
  },
  {
   "cell_type": "code",
   "execution_count": 5,
   "metadata": {},
   "outputs": [],
   "source": [
    "# Loading the Trained Model"
   ]
  },
  {
   "cell_type": "code",
   "execution_count": 7,
   "metadata": {},
   "outputs": [
    {
     "name": "stdout",
     "output_type": "stream",
     "text": [
      "_________________________________________________________________\n",
      "Layer (type)                 Output Shape              Param #   \n",
      "=================================================================\n",
      "dense_3 (Dense)              (None, 64)                640064    \n",
      "_________________________________________________________________\n",
      "dense_4 (Dense)              (None, 1)                 65        \n",
      "_________________________________________________________________\n",
      "activation_2 (Activation)    (None, 1)                 0         \n",
      "=================================================================\n",
      "Total params: 640,129\n",
      "Trainable params: 640,129\n",
      "Non-trainable params: 0\n",
      "_________________________________________________________________\n"
     ]
    }
   ],
   "source": [
    "model = load_model('best_model.h5')\n",
    "model.summary()"
   ]
  },
  {
   "cell_type": "code",
   "execution_count": 8,
   "metadata": {},
   "outputs": [],
   "source": [
    "word_idx = imdb.get_word_index()   ## The dictionary for word to its index from the source dataset"
   ]
  },
  {
   "cell_type": "code",
   "execution_count": 9,
   "metadata": {},
   "outputs": [],
   "source": [
    "word_dict = dict([value, key] for (key, value) in word_idx.items())  ## Reversing this dict to get index to word"
   ]
  },
  {
   "cell_type": "code",
   "execution_count": 10,
   "metadata": {},
   "outputs": [],
   "source": [
    "## Our predefined sentence-vectorizing function\n",
    "\n",
    "def vect_sent(sentences, dims=10000):\n",
    "    \n",
    "    outputs = np.zeros((len(sentences),dims))\n",
    "    \n",
    "    for i,idx in enumerate(sentences):\n",
    "        outputs[i,idx] = 1\n",
    "    \n",
    "    return outputs"
   ]
  },
  {
   "cell_type": "code",
   "execution_count": 11,
   "metadata": {},
   "outputs": [],
   "source": [
    "def func(snt):\n",
    "\n",
    "    sent = snt.split()\n",
    "    test = []\n",
    "    \n",
    "    for ix in sent:\n",
    "        try:\n",
    "            if word_idx[ix]+3 > 10000:      ## the first 3 letters are .?/ so we need to skip them\n",
    "                test.append(9999)           ## if the word index exceeds the 10000 vocabuary, set it to last index\n",
    "            else:\n",
    "                test.append(word_idx[ix]+3)\n",
    "        \n",
    "        except:\n",
    "                test.append(9999)\n",
    "    \n",
    "    return test"
   ]
  },
  {
   "cell_type": "code",
   "execution_count": 12,
   "metadata": {},
   "outputs": [],
   "source": [
    "sent = [\"it is really bad and poor quality\", \"was really easy to hold\"]\n",
    "\n",
    "tes = []\n",
    "for s in sent:\n",
    "    \n",
    "    tes.append(func(s))"
   ]
  },
  {
   "cell_type": "code",
   "execution_count": 13,
   "metadata": {},
   "outputs": [],
   "source": [
    "tes = vect_sent(tes)"
   ]
  },
  {
   "cell_type": "code",
   "execution_count": 14,
   "metadata": {},
   "outputs": [
    {
     "name": "stdout",
     "output_type": "stream",
     "text": [
      "0 😢\n",
      "1 😃\n"
     ]
    }
   ],
   "source": [
    "## Predicting the vectors on the pretrained model weights :: 0==>bad review, 1==>good review\n",
    "\n",
    "pred = model.predict_classes(tes)\n",
    "\n",
    "for ix in range(len(pred)):\n",
    "    print(ix, print_emoji(str(ix)))"
   ]
  },
  {
   "cell_type": "markdown",
   "metadata": {},
   "source": [
    "# Loading the text file"
   ]
  },
  {
   "cell_type": "code",
   "execution_count": 15,
   "metadata": {},
   "outputs": [],
   "source": [
    "## The text file contains copied data from the Youtube transcript of 3 reviews on Nikon D5600 Camera"
   ]
  },
  {
   "cell_type": "code",
   "execution_count": 16,
   "metadata": {},
   "outputs": [],
   "source": [
    "with open('Recognized.txt', 'r') as in_file:   #Loading the text file adn splitting it in sentences\n",
    "    text = in_file.read()\n",
    "    sents = sent_tokenize(text)"
   ]
  },
  {
   "cell_type": "code",
   "execution_count": 17,
   "metadata": {},
   "outputs": [],
   "source": [
    "data = []\n",
    "data = sents[0].split('\\n')\n",
    "\n",
    "reviews = []\n",
    "for ix in range(0,len(data),2):     # Every 2nd sentence is a timestamp which we need to skip\n",
    "    \n",
    "    reviews.append(data[ix])"
   ]
  },
  {
   "cell_type": "code",
   "execution_count": 18,
   "metadata": {},
   "outputs": [],
   "source": [
    "sw = set(stopwords.words('english'))    ## Stopwords like a the so it etc that have no specific meaning are removed\n",
    "tokenizer = RegexpTokenizer(\"[a-zA-Z@]+\")   ## RegexTokenizer removes unwanted text like D5600 which has no meaning\n",
    "\n",
    "for ix in range(len(reviews)):\n",
    "    \n",
    "    word_list = tokenizer.tokenize(reviews[ix].lower())\n",
    "    useful_words = [w for w in word_list if w not in sw and int]\n",
    "    \n",
    "    reviews[ix] = ' '.join(useful_words)"
   ]
  },
  {
   "cell_type": "code",
   "execution_count": 19,
   "metadata": {},
   "outputs": [
    {
     "name": "stdout",
     "output_type": "stream",
     "text": [
      "<class 'numpy.ndarray'>\n"
     ]
    }
   ],
   "source": [
    "reviews = np.array(reviews)\n",
    "print(type(reviews))"
   ]
  },
  {
   "cell_type": "code",
   "execution_count": 20,
   "metadata": {},
   "outputs": [],
   "source": [
    "tes = []\n",
    "for s in reviews:\n",
    "    \n",
    "    tes.append(func(s))"
   ]
  },
  {
   "cell_type": "code",
   "execution_count": 21,
   "metadata": {},
   "outputs": [],
   "source": [
    "tes = vect_sent(tes)"
   ]
  },
  {
   "cell_type": "code",
   "execution_count": 22,
   "metadata": {},
   "outputs": [],
   "source": [
    "pred = model.predict_classes(tes)"
   ]
  },
  {
   "cell_type": "code",
   "execution_count": 23,
   "metadata": {},
   "outputs": [
    {
     "name": "stdout",
     "output_type": "stream",
     "text": [
      "0.7076923076923077\n"
     ]
    }
   ],
   "source": [
    "score = np.sum(pred==[1])/pred.shape[0]\n",
    "print(score)"
   ]
  },
  {
   "cell_type": "code",
   "execution_count": 24,
   "metadata": {},
   "outputs": [],
   "source": [
    "## Prediction on the given Video scraped data is that 71% of the sentences used  by the person are good reviews\n",
    "## i.e it was a positive review"
   ]
  },
  {
   "cell_type": "code",
   "execution_count": null,
   "metadata": {},
   "outputs": [],
   "source": []
  },
  {
   "cell_type": "code",
   "execution_count": null,
   "metadata": {},
   "outputs": [],
   "source": []
  },
  {
   "cell_type": "code",
   "execution_count": null,
   "metadata": {},
   "outputs": [],
   "source": []
  }
 ],
 "metadata": {
  "kernelspec": {
   "display_name": "Python 3",
   "language": "python",
   "name": "python3"
  },
  "language_info": {
   "codemirror_mode": {
    "name": "ipython",
    "version": 3
   },
   "file_extension": ".py",
   "mimetype": "text/x-python",
   "name": "python",
   "nbconvert_exporter": "python",
   "pygments_lexer": "ipython3",
   "version": "3.5.2"
  }
 },
 "nbformat": 4,
 "nbformat_minor": 2
}
