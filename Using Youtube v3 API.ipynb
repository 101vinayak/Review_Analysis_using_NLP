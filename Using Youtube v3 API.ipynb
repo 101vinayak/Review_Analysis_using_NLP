{
 "cells": [
  {
   "cell_type": "code",
   "execution_count": 1,
   "metadata": {},
   "outputs": [],
   "source": [
    "import numpy"
   ]
  },
  {
   "cell_type": "code",
   "execution_count": 2,
   "metadata": {},
   "outputs": [],
   "source": [
    "apikey = \"your key\""
   ]
  },
  {
   "cell_type": "code",
   "execution_count": 3,
   "metadata": {},
   "outputs": [],
   "source": [
    "from apiclient.discovery import build\n",
    "youtube = build('youtube', 'v3', developerKey=apikey)"
   ]
  },
  {
   "cell_type": "code",
   "execution_count": 4,
   "metadata": {},
   "outputs": [],
   "source": [
    "req = youtube.search().list(q='canon camera review', part='snippet', type='video', maxResults=50) # 50 being the max"
   ]
  },
  {
   "cell_type": "code",
   "execution_count": 5,
   "metadata": {},
   "outputs": [],
   "source": [
    "res = req.execute()"
   ]
  },
  {
   "cell_type": "code",
   "execution_count": 11,
   "metadata": {},
   "outputs": [
    {
     "data": {
      "text/plain": [
       "50"
      ]
     },
     "execution_count": 11,
     "metadata": {},
     "output_type": "execute_result"
    }
   ],
   "source": [
    "len(res['items'])"
   ]
  },
  {
   "cell_type": "code",
   "execution_count": 19,
   "metadata": {},
   "outputs": [
    {
     "data": {
      "text/plain": [
       "'43DoBDSCWdI'"
      ]
     },
     "execution_count": 19,
     "metadata": {},
     "output_type": "execute_result"
    }
   ],
   "source": [
    "res['items'][0]['id']['videoId']"
   ]
  },
  {
   "cell_type": "code",
   "execution_count": 23,
   "metadata": {},
   "outputs": [],
   "source": [
    "video_ids = []\n",
    "\n",
    "for video in res['items']:\n",
    "    \n",
    "    video_ids.append(video['id']['videoId'])"
   ]
  },
  {
   "cell_type": "code",
   "execution_count": 24,
   "metadata": {},
   "outputs": [],
   "source": [
    "from youtube_transcript_api import YouTubeTranscriptApi\n",
    "\n",
    "Transcripts = []\n",
    "\n",
    "for ids in video_ids:\n",
    "    \n",
    "    try:\n",
    "        transcript = YouTubeTranscriptApi.get_transcript(ids)  ## extracting transcripts of each id if it has one on the youtube page\n",
    "    except:\n",
    "        continue\n",
    "    \n",
    "    Transcripts.append(transcript)"
   ]
  },
  {
   "cell_type": "code",
   "execution_count": 25,
   "metadata": {},
   "outputs": [
    {
     "name": "stdout",
     "output_type": "stream",
     "text": [
      "28\n"
     ]
    }
   ],
   "source": [
    "print(len(Transcripts))             ## out of the many videos only 28 had trascripts given by the youtube"
   ]
  },
  {
   "cell_type": "code",
   "execution_count": 27,
   "metadata": {},
   "outputs": [],
   "source": [
    "import os\n",
    "\n",
    "os.makedirs('youtube-api extracted transcripts')"
   ]
  },
  {
   "cell_type": "code",
   "execution_count": 29,
   "metadata": {},
   "outputs": [],
   "source": [
    "## all that is left is to extract the tyext from these transcript dictionaries\n",
    "\n",
    "for i in range(len(Transcripts)):                      ## for each video\n",
    "    \n",
    "    f = open('youtube-api extracted transcripts' + '/' + 'video' + str(i), \"w\")\n",
    "    transcript_text = []\n",
    "    \n",
    "    for j in range(len(Transcripts[i])):               ## for each line in transcript\n",
    "        \n",
    "        text = Transcripts[i][j]['text'] + '\\n'        ## we only need text for review analysis\n",
    "        transcript_text.append(text)\n",
    "    \n",
    "    transcript_text = \"\".join(transcript_text)\n",
    "    f.write(transcript_text)\n",
    "    \n",
    "f.close()"
   ]
  },
  {
   "cell_type": "code",
   "execution_count": null,
   "metadata": {},
   "outputs": [],
   "source": []
  }
 ],
 "metadata": {
  "kernelspec": {
   "display_name": "Python 3",
   "language": "python",
   "name": "python3"
  },
  "language_info": {
   "codemirror_mode": {
    "name": "ipython",
    "version": 3
   },
   "file_extension": ".py",
   "mimetype": "text/x-python",
   "name": "python",
   "nbconvert_exporter": "python",
   "pygments_lexer": "ipython3",
   "version": "3.5.2"
  }
 },
 "nbformat": 4,
 "nbformat_minor": 2
}
